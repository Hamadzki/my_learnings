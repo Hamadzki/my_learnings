{
 "cells": [
  {
   "cell_type": "code",
   "execution_count": 1,
   "metadata": {},
   "outputs": [],
   "source": [
    "import pandas as pd\n",
    "import numpy as np\n",
    "import matplotlib.pyplot as plt\n",
    "import seaborn as sns\n",
    "import datetime"
   ]
  },
  {
   "cell_type": "code",
   "execution_count": 2,
   "metadata": {},
   "outputs": [],
   "source": [
    "df = pd.read_csv(\"hotel_bookings.csv\")"
   ]
  },
  {
   "cell_type": "code",
   "execution_count": 3,
   "metadata": {},
   "outputs": [
    {
     "data": {
      "text/plain": [
       "(119390, 32)"
      ]
     },
     "execution_count": 3,
     "metadata": {},
     "output_type": "execute_result"
    }
   ],
   "source": [
    "df.shape"
   ]
  },
  {
   "cell_type": "code",
   "execution_count": null,
   "metadata": {},
   "outputs": [],
   "source": []
  },
  {
   "cell_type": "markdown",
   "metadata": {},
   "source": [
    "## incomplete"
   ]
  },
  {
   "cell_type": "code",
   "execution_count": 5,
   "metadata": {},
   "outputs": [
    {
     "data": {
      "text/plain": [
       "hotel                              0.000000\n",
       "is_canceled                        0.000000\n",
       "lead_time                          0.000000\n",
       "arrival_date_year                  0.000000\n",
       "arrival_date_month                 0.000000\n",
       "arrival_date_week_number           0.000000\n",
       "arrival_date_day_of_month          0.000000\n",
       "stays_in_weekend_nights            0.000000\n",
       "stays_in_week_nights               0.000000\n",
       "adults                             0.000000\n",
       "children                           0.003350\n",
       "babies                             0.000000\n",
       "meal                               0.000000\n",
       "country                            0.408744\n",
       "market_segment                     0.000000\n",
       "distribution_channel               0.000000\n",
       "is_repeated_guest                  0.000000\n",
       "previous_cancellations             0.000000\n",
       "previous_bookings_not_canceled     0.000000\n",
       "reserved_room_type                 0.000000\n",
       "assigned_room_type                 0.000000\n",
       "booking_changes                    0.000000\n",
       "deposit_type                       0.000000\n",
       "agent                             13.686238\n",
       "company                           94.306893\n",
       "days_in_waiting_list               0.000000\n",
       "customer_type                      0.000000\n",
       "adr                                0.000000\n",
       "required_car_parking_spaces        0.000000\n",
       "total_of_special_requests          0.000000\n",
       "reservation_status                 0.000000\n",
       "reservation_status_date            0.000000\n",
       "dtype: float64"
      ]
     },
     "execution_count": 5,
     "metadata": {},
     "output_type": "execute_result"
    }
   ],
   "source": [
    "#df.isnull().sum()\n",
    "(df.isnull().sum()*100)/len(df)"
   ]
  },
  {
   "cell_type": "code",
   "execution_count": 6,
   "metadata": {},
   "outputs": [],
   "source": [
    "df.dropna(subset = [\"country\" , \"children\"] ,inplace = True)"
   ]
  },
  {
   "cell_type": "code",
   "execution_count": 7,
   "metadata": {},
   "outputs": [
    {
     "data": {
      "text/plain": [
       "<AxesSubplot:title={'center':'after filling'}, ylabel='Frequency'>"
      ]
     },
     "execution_count": 7,
     "metadata": {},
     "output_type": "execute_result"
    },
    {
     "data": {
      "image/png": "[encoded data removed]",
      "text/plain": [
       "<Figure size 864x864 with 2 Axes>"
      ]
     },
     "metadata": {
      "needs_background": "light"
     },
     "output_type": "display_data"
    }
   ],
   "source": [
    "plt.figure(figsize = (12,12))\n",
    "plt.subplot(2,2,1)\n",
    "df[\"agent\"].plot(kind = \"hist\" , title = \"before filling\")\n",
    "plt.subplot(2,2,2)\n",
    "df[\"agent\"].fillna(df[\"agent\"].mean()).plot(kind = \"hist\",title = \"after filling\")"
   ]
  },
  {
   "cell_type": "code",
   "execution_count": 16,
   "metadata": {},
   "outputs": [
    {
     "name": "stderr",
     "output_type": "stream",
     "text": [
      "<ipython-input-16-540cf4d936ee>:1: SettingWithCopyWarning: \n",
      "A value is trying to be set on a copy of a slice from a DataFrame\n",
      "\n",
      "See the caveats in the documentation: https://pandas.pydata.org/pandas-docs/stable/user_guide/indexing.html#returning-a-view-versus-a-copy\n",
      "  df[\"agent\"][df[\"agent\"].isnull()] = df[\"agent\"].dropna().sample( df[\"agent\"].isnull().sum() )\n"
     ]
    }
   ],
   "source": [
    "#df[\"agent\"][df[\"agent\"].isnull()] = df[\"agent\"].dropna().sample( df[\"agent\"].isnull().sum() )\n"
   ]
  },
  {
   "cell_type": "code",
   "execution_count": 8,
   "metadata": {},
   "outputs": [],
   "source": [
    "df[\"agent\"].fillna(df[\"agent\"].mean(),inplace = True)\n"
   ]
  },
  {
   "cell_type": "markdown",
   "metadata": {},
   "source": [
    "Company has 94% missing value so lets drop the column"
   ]
  },
  {
   "cell_type": "code",
   "execution_count": 9,
   "metadata": {},
   "outputs": [],
   "source": [
    "df.drop(\"company\"  , axis = 1 , inplace = True)"
   ]
  },
  {
   "cell_type": "code",
   "execution_count": 10,
   "metadata": {},
   "outputs": [
    {
     "data": {
      "text/plain": [
       "hotel                             0\n",
       "is_canceled                       0\n",
       "lead_time                         0\n",
       "arrival_date_year                 0\n",
       "arrival_date_month                0\n",
       "arrival_date_week_number          0\n",
       "arrival_date_day_of_month         0\n",
       "stays_in_weekend_nights           0\n",
       "stays_in_week_nights              0\n",
       "adults                            0\n",
       "children                          0\n",
       "babies                            0\n",
       "meal                              0\n",
       "country                           0\n",
       "market_segment                    0\n",
       "distribution_channel              0\n",
       "is_repeated_guest                 0\n",
       "previous_cancellations            0\n",
       "previous_bookings_not_canceled    0\n",
       "reserved_room_type                0\n",
       "assigned_room_type                0\n",
       "booking_changes                   0\n",
       "deposit_type                      0\n",
       "agent                             0\n",
       "days_in_waiting_list              0\n",
       "customer_type                     0\n",
       "adr                               0\n",
       "required_car_parking_spaces       0\n",
       "total_of_special_requests         0\n",
       "reservation_status                0\n",
       "reservation_status_date           0\n",
       "dtype: int64"
      ]
     },
     "execution_count": 10,
     "metadata": {},
     "output_type": "execute_result"
    }
   ],
   "source": [
    "df.isnull().sum()"
   ]
  },
  {
   "cell_type": "markdown",
   "metadata": {},
   "source": [
    "## duplicated"
   ]
  },
  {
   "cell_type": "code",
   "execution_count": 25,
   "metadata": {},
   "outputs": [
    {
     "data": {
      "text/plain": [
       "31965"
      ]
     },
     "execution_count": 25,
     "metadata": {},
     "output_type": "execute_result"
    }
   ],
   "source": [
    "df.duplicated().sum()"
   ]
  },
  {
   "cell_type": "code",
   "execution_count": 28,
   "metadata": {},
   "outputs": [],
   "source": [
    "df.drop_duplicates(inplace = True)"
   ]
  },
  {
   "cell_type": "code",
   "execution_count": 29,
   "metadata": {},
   "outputs": [
    {
     "data": {
      "text/plain": [
       "0"
      ]
     },
     "execution_count": 29,
     "metadata": {},
     "output_type": "execute_result"
    }
   ],
   "source": [
    "df.duplicated().sum()"
   ]
  },
  {
   "cell_type": "markdown",
   "metadata": {},
   "source": [
    "seems to have some dirtiness in data as Adults,babies & children cant be zero at a same time"
   ]
  },
  {
   "cell_type": "code",
   "execution_count": 11,
   "metadata": {},
   "outputs": [],
   "source": [
    "filter=(df['children']==0) & (df['adults']==0) & (df['babies']==0)\n",
    "data = df[~filter]"
   ]
  },
  {
   "cell_type": "code",
   "execution_count": 12,
   "metadata": {},
   "outputs": [
    {
     "data": {
      "text/plain": [
       "118898"
      ]
     },
     "execution_count": 12,
     "metadata": {},
     "output_type": "execute_result"
    }
   ],
   "source": [
    "len(df)"
   ]
  },
  {
   "cell_type": "code",
   "execution_count": 13,
   "metadata": {},
   "outputs": [
    {
     "data": {
      "text/plain": [
       "118728"
      ]
     },
     "execution_count": 13,
     "metadata": {},
     "output_type": "execute_result"
    }
   ],
   "source": [
    "len(data)"
   ]
  },
  {
   "cell_type": "markdown",
   "metadata": {},
   "source": [
    "## incorrect"
   ]
  },
  {
   "cell_type": "code",
   "execution_count": 15,
   "metadata": {},
   "outputs": [],
   "source": [
    "columns = df.select_dtypes(include = [\"object\"]).columns"
   ]
  },
  {
   "cell_type": "code",
   "execution_count": 16,
   "metadata": {},
   "outputs": [
    {
     "name": "stdout",
     "output_type": "stream",
     "text": [
      "hotel has ['Resort Hotel' 'City Hotel'] features\n",
      "arrival_date_month has ['July' 'August' 'September' 'October' 'November' 'December' 'January'\n",
      " 'February' 'March' 'April' 'May' 'June'] features\n",
      "meal has ['BB' 'FB' 'HB' 'SC' 'Undefined'] features\n",
      "country has ['PRT' 'GBR' 'USA' 'ESP' 'IRL' 'FRA' 'ROU' 'NOR' 'OMN' 'ARG' 'POL' 'DEU'\n",
      " 'BEL' 'CHE' 'CN' 'GRC' 'ITA' 'NLD' 'DNK' 'RUS' 'SWE' 'AUS' 'EST' 'CZE'\n",
      " 'BRA' 'FIN' 'MOZ' 'BWA' 'LUX' 'SVN' 'ALB' 'IND' 'CHN' 'MEX' 'MAR' 'UKR'\n",
      " 'SMR' 'LVA' 'PRI' 'SRB' 'CHL' 'AUT' 'BLR' 'LTU' 'TUR' 'ZAF' 'AGO' 'ISR'\n",
      " 'CYM' 'ZMB' 'CPV' 'ZWE' 'DZA' 'KOR' 'CRI' 'HUN' 'ARE' 'TUN' 'JAM' 'HRV'\n",
      " 'HKG' 'IRN' 'GEO' 'AND' 'GIB' 'URY' 'JEY' 'CAF' 'CYP' 'COL' 'GGY' 'KWT'\n",
      " 'NGA' 'MDV' 'VEN' 'SVK' 'FJI' 'KAZ' 'PAK' 'IDN' 'LBN' 'PHL' 'SEN' 'SYC'\n",
      " 'AZE' 'BHR' 'NZL' 'THA' 'DOM' 'MKD' 'MYS' 'ARM' 'JPN' 'LKA' 'CUB' 'CMR'\n",
      " 'BIH' 'MUS' 'COM' 'SUR' 'UGA' 'BGR' 'CIV' 'JOR' 'SYR' 'SGP' 'BDI' 'SAU'\n",
      " 'VNM' 'PLW' 'QAT' 'EGY' 'PER' 'MLT' 'MWI' 'ECU' 'MDG' 'ISL' 'UZB' 'NPL'\n",
      " 'BHS' 'MAC' 'TGO' 'TWN' 'DJI' 'STP' 'KNA' 'ETH' 'IRQ' 'HND' 'RWA' 'KHM'\n",
      " 'MCO' 'BGD' 'IMN' 'TJK' 'NIC' 'BEN' 'VGB' 'TZA' 'GAB' 'GHA' 'TMP' 'GLP'\n",
      " 'KEN' 'LIE' 'GNB' 'MNE' 'UMI' 'MYT' 'FRO' 'MMR' 'PAN' 'BFA' 'LBY' 'MLI'\n",
      " 'NAM' 'BOL' 'PRY' 'BRB' 'ABW' 'AIA' 'SLV' 'DMA' 'PYF' 'GUY' 'LCA' 'ATA'\n",
      " 'GTM' 'ASM' 'MRT' 'NCL' 'KIR' 'SDN' 'ATF' 'SLE' 'LAO'] features\n",
      "market_segment has ['Direct' 'Corporate' 'Online TA' 'Offline TA/TO' 'Complementary' 'Groups'\n",
      " 'Aviation'] features\n",
      "distribution_channel has ['Direct' 'Corporate' 'TA/TO' 'Undefined' 'GDS'] features\n",
      "reserved_room_type has ['C' 'A' 'D' 'E' 'G' 'F' 'H' 'L' 'B' 'P'] features\n",
      "assigned_room_type has ['C' 'A' 'D' 'E' 'G' 'F' 'I' 'B' 'H' 'L' 'K' 'P'] features\n",
      "deposit_type has ['No Deposit' 'Refundable' 'Non Refund'] features\n",
      "customer_type has ['Transient' 'Contract' 'Transient-Party' 'Group'] features\n",
      "reservation_status has ['Check-Out' 'Canceled' 'No-Show'] features\n",
      "reservation_status_date has ['7/1/2015' '7/2/2015' '7/3/2015' '5/6/2015' '4/22/2015' '6/23/2015'\n",
      " '7/5/2015' '7/6/2015' '7/7/2015' '7/8/2015' '5/11/2015' '7/16/2015'\n",
      " '5/29/2015' '5/19/2015' '6/19/2015' '5/23/2015' '5/18/2015' '7/9/2015'\n",
      " '6/2/2015' '7/13/2015' '7/4/2015' '6/29/2015' '6/16/2015' '6/18/2015'\n",
      " '6/12/2015' '6/9/2015' '5/26/2015' '7/11/2015' '7/12/2015' '7/17/2015'\n",
      " '4/15/2015' '5/13/2015' '7/10/2015' '5/20/2015' '5/12/2015' '7/14/2015'\n",
      " '6/17/2015' '5/1/2015' '3/30/2015' '7/15/2015' '7/19/2015' '6/3/2015'\n",
      " '6/26/2015' '5/14/2015' '7/20/2015' '5/7/2015' '5/28/2015' '4/13/2015'\n",
      " '3/25/2015' '7/21/2015' '6/27/2015' '7/18/2015' '7/23/2015' '6/8/2015'\n",
      " '6/22/2015' '6/24/2015' '3/5/2015' '6/1/2015' '4/24/2015' '7/22/2015'\n",
      " '5/27/2015' '4/6/2015' '4/11/2015' '7/25/2015' '7/28/2015' '7/29/2015'\n",
      " '6/25/2015' '7/24/2015' '6/5/2015' '6/30/2015' '6/13/2015' '6/11/2015'\n",
      " '7/30/2015' '7/27/2015' '4/29/2015' '6/4/2015' '7/26/2015' '8/1/2015'\n",
      " '8/2/2015' '6/15/2015' '4/23/2015' '7/31/2015' '5/25/2015' '8/3/2015'\n",
      " '4/17/2015' '8/4/2015' '8/6/2015' '5/15/2015' '5/9/2015' '3/17/2015'\n",
      " '5/22/2015' '8/7/2015' '4/4/2015' '8/5/2015' '8/8/2015' '8/10/2015'\n",
      " '5/4/2015' '6/6/2015' '8/9/2015' '8/15/2015' '8/11/2015' '3/28/2015'\n",
      " '8/14/2015' '8/12/2015' '8/16/2015' '5/16/2015' '8/21/2015' '8/13/2015'\n",
      " '8/17/2015' '4/20/2015' '8/18/2015' '8/23/2015' '8/22/2015' '8/19/2015'\n",
      " '8/20/2015' '8/29/2015' '3/31/2015' '5/30/2015' '8/25/2015' '4/14/2015'\n",
      " '8/24/2015' '3/24/2015' '5/21/2015' '8/28/2015' '8/26/2015' '8/27/2015'\n",
      " '8/30/2015' '8/31/2015' '9/6/2015' '9/3/2015' '9/4/2015' '9/2/2015'\n",
      " '9/1/2015' '9/5/2015' '6/20/2015' '9/7/2015' '9/10/2015' '9/11/2015'\n",
      " '9/8/2015' '9/9/2015' '9/13/2015' '9/15/2015' '4/10/2015' '1/2/2015'\n",
      " '11/18/2014' '9/12/2015' '9/17/2015' '9/14/2015' '4/7/2015' '9/19/2015'\n",
      " '9/16/2015' '9/20/2015' '1/18/2015' '10/23/2015' '1/22/2015' '1/1/2015'\n",
      " '9/22/2015' '9/24/2015' '9/18/2015' '9/21/2015' '9/30/2015' '9/25/2015'\n",
      " '9/27/2015' '9/28/2015' '10/12/2015' '9/29/2015' '9/23/2015' '10/1/2015'\n",
      " '9/26/2015' '4/18/2015' '10/2/2015' '10/4/2015' '10/8/2015' '10/3/2015'\n",
      " '10/7/2015' '10/9/2015' '10/11/2015' '10/5/2015' '10/6/2015' '10/10/2015'\n",
      " '10/14/2015' '10/15/2015' '10/18/2015' '10/13/2015' '10/20/2015'\n",
      " '10/19/2015' '10/31/2015' '10/16/2015' '10/21/2015' '10/22/2015'\n",
      " '10/17/2015' '10/24/2015' '10/25/2015' '10/28/2015' '10/27/2015'\n",
      " '10/26/2015' '10/30/2015' '11/5/2015' '10/29/2015' '11/3/2015'\n",
      " '11/7/2015' '11/4/2015' '11/1/2015' '11/2/2015' '11/17/2015' '11/6/2015'\n",
      " '11/10/2015' '11/8/2015' '11/9/2015' '11/15/2015' '11/16/2015'\n",
      " '11/11/2015' '11/12/2015' '11/14/2015' '11/13/2015' '11/18/2015'\n",
      " '11/22/2015' '11/19/2015' '11/21/2015' '11/20/2015' '11/24/2015'\n",
      " '11/25/2015' '11/23/2015' '11/28/2015' '11/26/2015' '11/27/2015'\n",
      " '11/29/2015' '12/4/2015' '12/1/2015' '12/6/2015' '12/8/2015' '12/2/2015'\n",
      " '12/3/2015' '12/31/2015' '12/5/2015' '12/10/2015' '12/17/2015'\n",
      " '11/30/2015' '12/12/2015' '12/7/2015' '1/5/2016' '12/11/2015'\n",
      " '12/13/2015' '12/15/2015' '12/16/2015' '12/19/2015' '12/18/2015'\n",
      " '12/26/2015' '12/27/2015' '12/22/2015' '12/23/2015' '12/24/2015'\n",
      " '12/29/2015' '12/28/2015' '12/20/2015' '12/30/2015' '1/2/2016' '1/1/2016'\n",
      " '12/25/2015' '1/3/2016' '1/4/2016' '1/11/2016' '1/7/2016' '12/21/2015'\n",
      " '1/9/2016' '1/10/2016' '1/8/2016' '1/6/2016' '1/12/2016' '1/13/2016'\n",
      " '1/23/2016' '2/9/2016' '1/15/2016' '1/16/2016' '1/17/2016' '1/19/2016'\n",
      " '1/18/2016' '1/21/2016' '1/24/2016' '1/22/2016' '1/29/2016' '1/27/2016'\n",
      " '1/25/2016' '3/8/2016' '1/26/2016' '1/20/2016' '1/30/2016' '2/1/2016'\n",
      " '2/2/2016' '2/8/2016' '2/7/2016' '1/28/2016' '2/5/2016' '2/3/2016'\n",
      " '2/13/2016' '2/10/2016' '2/4/2016' '2/12/2016' '2/11/2016' '2/16/2016'\n",
      " '2/14/2016' '2/15/2016' '2/20/2016' '2/6/2016' '1/14/2016' '2/17/2016'\n",
      " '2/21/2016' '2/24/2016' '2/25/2016' '2/19/2016' '2/18/2016' '2/26/2016'\n",
      " '2/23/2016' '3/5/2016' '2/22/2016' '2/27/2016' '3/3/2016' '3/24/2016'\n",
      " '3/4/2016' '2/29/2016' '3/1/2016' '3/2/2016' '3/30/2016' '3/7/2016'\n",
      " '3/14/2016' '3/21/2016' '3/9/2016' '3/12/2016' '3/22/2016' '3/10/2016'\n",
      " '3/11/2016' '3/20/2016' '3/15/2016' '3/17/2016' '3/16/2016' '3/19/2016'\n",
      " '3/27/2016' '3/18/2016' '3/26/2016' '3/31/2016' '3/28/2016' '3/29/2016'\n",
      " '4/1/2016' '3/23/2016' '4/2/2016' '3/25/2016' '3/13/2016' '4/4/2016'\n",
      " '4/3/2016' '4/5/2016' '4/8/2016' '4/6/2016' '4/9/2016' '4/12/2016'\n",
      " '4/16/2016' '4/17/2016' '4/27/2016' '4/14/2016' '4/18/2016' '4/21/2016'\n",
      " '4/19/2016' '4/20/2016' '4/10/2016' '4/13/2016' '4/11/2016' '4/7/2016'\n",
      " '4/15/2016' '4/22/2016' '4/23/2016' '4/26/2016' '4/28/2016' '4/24/2016'\n",
      " '4/25/2016' '4/29/2016' '4/30/2016' '5/1/2016' '5/10/2016' '5/2/2016'\n",
      " '5/7/2016' '5/8/2016' '5/12/2016' '5/4/2016' '5/6/2016' '5/3/2016'\n",
      " '5/9/2016' '5/5/2016' '5/13/2016' '5/14/2016' '5/18/2016' '5/19/2016'\n",
      " '5/15/2016' '5/16/2016' '5/11/2016' '5/21/2016' '5/22/2016' '5/20/2016'\n",
      " '5/24/2016' '5/25/2016' '5/26/2016' '5/23/2016' '5/27/2016' '5/17/2016'\n",
      " '5/29/2016' '5/28/2016' '5/30/2016' '5/31/2016' '6/1/2016' '6/3/2016'\n",
      " '6/8/2016' '6/2/2016' '6/5/2016' '6/6/2016' '6/13/2016' '6/7/2016'\n",
      " '6/10/2016' '6/11/2016' '6/16/2016' '6/12/2016' '6/14/2016' '6/17/2016'\n",
      " '6/4/2016' '6/18/2016' '6/21/2016' '6/9/2016' '6/24/2016' '6/20/2016'\n",
      " '6/25/2016' '6/22/2016' '6/26/2016' '6/23/2016' '7/1/2016' '6/15/2016'\n",
      " '6/28/2016' '7/2/2016' '6/19/2016' '6/27/2016' '7/4/2016' '6/30/2016'\n",
      " '7/5/2016' '7/8/2016' '7/9/2016' '7/7/2016' '7/12/2016' '6/29/2016'\n",
      " '7/10/2016' '7/15/2016' '7/3/2016' '7/16/2016' '7/14/2016' '7/18/2016'\n",
      " '7/13/2016' '7/6/2016' '7/20/2016' '7/21/2016' '7/23/2016' '7/19/2016'\n",
      " '7/11/2016' '7/28/2016' '7/17/2016' '7/25/2016' '7/22/2016' '7/29/2016'\n",
      " '8/3/2016' '8/2/2016' '8/4/2016' '8/8/2016' '8/10/2016' '8/1/2016'\n",
      " '8/6/2016' '3/6/2016' '8/5/2016' '7/26/2016' '8/7/2016' '7/30/2016'\n",
      " '7/24/2016' '8/12/2016' '7/27/2016' '8/13/2016' '8/18/2016' '8/16/2016'\n",
      " '8/15/2016' '8/17/2016' '8/11/2016' '7/31/2016' '8/19/2016' '9/1/2016'\n",
      " '8/23/2016' '8/26/2016' '8/20/2016' '8/21/2016' '9/4/2016' '8/22/2016'\n",
      " '8/27/2016' '8/25/2016' '8/9/2016' '9/5/2016' '8/24/2016' '9/10/2016'\n",
      " '8/29/2016' '9/9/2016' '8/30/2016' '9/13/2016' '8/31/2016' '9/14/2016'\n",
      " '9/12/2016' '9/15/2016' '8/14/2016' '9/2/2016' '9/8/2016' '9/19/2016'\n",
      " '9/16/2016' '9/7/2016' '9/21/2016' '9/6/2016' '9/22/2016' '9/17/2016'\n",
      " '9/20/2016' '9/3/2016' '9/26/2016' '9/23/2016' '9/18/2016' '9/29/2016'\n",
      " '10/2/2016' '10/1/2016' '9/27/2016' '9/25/2016' '10/5/2016' '9/11/2016'\n",
      " '9/30/2016' '10/9/2016' '10/3/2016' '10/6/2016' '10/11/2016' '9/24/2016'\n",
      " '10/13/2016' '9/28/2016' '10/8/2016' '10/7/2016' '10/16/2016' '8/28/2016'\n",
      " '10/17/2016' '10/18/2016' '10/10/2016' '10/4/2016' '10/15/2016'\n",
      " '10/19/2016' '10/21/2016' '10/12/2016' '10/24/2016' '10/26/2016'\n",
      " '10/23/2016' '10/20/2016' '10/25/2016' '10/27/2016' '10/28/2016'\n",
      " '10/30/2016' '10/29/2016' '11/1/2016' '11/4/2016' '10/14/2016'\n",
      " '11/7/2016' '11/3/2016' '11/10/2016' '11/14/2016' '11/2/2016'\n",
      " '10/31/2016' '11/11/2016' '11/8/2016' '11/5/2016' '11/25/2016'\n",
      " '11/9/2016' '11/20/2016' '10/22/2016' '11/22/2016' '11/16/2016'\n",
      " '11/23/2016' '11/17/2016' '11/6/2016' '11/15/2016' '11/13/2016'\n",
      " '11/12/2016' '11/21/2016' '11/27/2016' '11/19/2016' '11/30/2016'\n",
      " '11/18/2016' '12/2/2016' '12/4/2016' '11/29/2016' '12/7/2016'\n",
      " '11/28/2016' '12/3/2016' '12/6/2016' '11/24/2016' '12/8/2016' '12/5/2016'\n",
      " '12/10/2016' '12/13/2016' '12/14/2016' '12/16/2016' '12/15/2016'\n",
      " '12/17/2016' '12/19/2016' '12/21/2016' '12/20/2016' '12/22/2016'\n",
      " '12/23/2016' '12/24/2016' '12/1/2016' '12/27/2016' '12/29/2016'\n",
      " '12/30/2016' '12/12/2016' '1/2/2017' '12/11/2016' '1/3/2017' '1/4/2017'\n",
      " '1/1/2017' '12/26/2016' '1/6/2017' '12/28/2016' '12/18/2016' '1/10/2017'\n",
      " '1/11/2017' '1/7/2017' '1/12/2017' '1/16/2017' '1/14/2017' '1/13/2017'\n",
      " '1/5/2017' '1/17/2017' '1/20/2017' '12/9/2016' '1/26/2017' '12/31/2016'\n",
      " '1/23/2017' '1/27/2017' '1/28/2017' '1/19/2017' '1/25/2017' '1/24/2017'\n",
      " '1/29/2017' '1/18/2017' '12/25/2016' '1/15/2017' '1/21/2017' '2/1/2017'\n",
      " '2/2/2017' '1/31/2017' '2/3/2017' '2/4/2017' '2/6/2017' '2/7/2017'\n",
      " '2/8/2017' '1/30/2017' '2/9/2017' '1/9/2017' '2/11/2017' '2/10/2017'\n",
      " '2/12/2017' '2/13/2017' '2/14/2017' '2/16/2017' '2/17/2017' '2/18/2017'\n",
      " '2/19/2017' '2/20/2017' '2/15/2017' '2/21/2017' '2/22/2017' '2/26/2017'\n",
      " '2/23/2017' '2/24/2017' '2/25/2017' '2/28/2017' '3/5/2017' '2/27/2017'\n",
      " '3/3/2017' '3/6/2017' '3/2/2017' '3/8/2017' '3/9/2017' '3/10/2017'\n",
      " '3/7/2017' '3/12/2017' '3/13/2017' '3/14/2017' '3/1/2017' '3/18/2017'\n",
      " '3/17/2017' '3/24/2017' '3/22/2017' '3/26/2017' '3/27/2017' '3/11/2017'\n",
      " '3/28/2017' '3/29/2017' '3/30/2017' '3/31/2017' '3/19/2017' '1/22/2017'\n",
      " '4/2/2017' '3/20/2017' '4/3/2017' '1/8/2017' '3/23/2017' '4/5/2017'\n",
      " '2/5/2017' '4/4/2017' '3/15/2017' '4/7/2017' '3/25/2017' '4/8/2017'\n",
      " '4/6/2017' '3/21/2017' '4/10/2017' '4/1/2017' '4/11/2017' '4/13/2017'\n",
      " '4/15/2017' '4/12/2017' '3/4/2017' '4/19/2017' '4/22/2017' '4/20/2017'\n",
      " '5/2/2017' '4/9/2017' '4/23/2017' '4/24/2017' '4/16/2017' '4/28/2017'\n",
      " '4/18/2017' '4/26/2017' '4/25/2017' '4/17/2017' '4/21/2017' '5/3/2017'\n",
      " '5/4/2017' '3/16/2017' '5/5/2017' '4/29/2017' '4/14/2017' '5/8/2017'\n",
      " '4/27/2017' '5/11/2017' '5/1/2017' '5/10/2017' '5/13/2017' '5/6/2017'\n",
      " '5/14/2017' '5/16/2017' '4/30/2017' '5/15/2017' '5/7/2017' '5/9/2017'\n",
      " '5/17/2017' '5/21/2017' '5/12/2017' '5/22/2017' '5/24/2017' '5/23/2017'\n",
      " '5/25/2017' '5/26/2017' '5/28/2017' '5/27/2017' '5/29/2017' '5/19/2017'\n",
      " '5/31/2017' '5/20/2017' '6/1/2017' '5/30/2017' '6/2/2017' '11/26/2016'\n",
      " '6/4/2017' '6/5/2017' '6/6/2017' '6/7/2017' '5/18/2017' '6/9/2017'\n",
      " '6/10/2017' '6/11/2017' '6/12/2017' '6/14/2017' '6/8/2017' '6/16/2017'\n",
      " '6/13/2017' '6/3/2017' '6/24/2017' '6/20/2017' '6/19/2017' '6/21/2017'\n",
      " '6/26/2017' '6/27/2017' '6/22/2017' '6/28/2017' '6/15/2017' '6/29/2017'\n",
      " '6/30/2017' '6/18/2017' '7/4/2017' '7/8/2017' '7/5/2017' '7/3/2017'\n",
      " '7/7/2017' '7/1/2017' '7/6/2017' '7/11/2017' '7/12/2017' '6/23/2017'\n",
      " '7/13/2017' '7/2/2017' '7/10/2017' '7/14/2017' '7/15/2017' '7/16/2017'\n",
      " '7/18/2017' '7/17/2017' '7/19/2017' '7/20/2017' '7/21/2017' '6/25/2017'\n",
      " '6/17/2017' '7/24/2017' '7/26/2017' '7/9/2017' '7/27/2017' '7/28/2017'\n",
      " '7/31/2017' '7/29/2017' '7/22/2017' '8/2/2017' '8/1/2017' '8/3/2017'\n",
      " '8/4/2017' '7/25/2017' '7/23/2017' '8/9/2017' '8/10/2017' '7/30/2017'\n",
      " '8/7/2017' '8/13/2017' '8/5/2017' '8/14/2017' '8/8/2017' '8/16/2017'\n",
      " '8/17/2017' '8/15/2017' '8/18/2017' '8/20/2017' '8/22/2017' '8/6/2017'\n",
      " '8/25/2017' '8/26/2017' '8/23/2017' '8/11/2017' '8/27/2017' '8/21/2017'\n",
      " '8/29/2017' '8/31/2017' '8/12/2017' '8/19/2017' '9/1/2017' '8/28/2017'\n",
      " '4/3/2015' '1/21/2015' '1/28/2015' '1/29/2015' '1/30/2015' '2/2/2015'\n",
      " '2/5/2015' '2/6/2015' '2/9/2015' '2/10/2015' '2/11/2015' '2/12/2015'\n",
      " '2/19/2015' '2/20/2015' '2/23/2015' '2/24/2015' '2/25/2015' '2/26/2015'\n",
      " '2/27/2015' '3/3/2015' '3/4/2015' '3/6/2015' '3/9/2015' '3/11/2015'\n",
      " '3/12/2015' '3/18/2015' '4/2/2015' '6/14/2015' '4/8/2015' '4/16/2015'\n",
      " '4/25/2015' '4/28/2015' '5/8/2015' '1/31/2016' '9/6/2017' '2/28/2016'\n",
      " '12/9/2015' '12/14/2015' '9/9/2017' '9/2/2017' '8/24/2017' '8/30/2017'\n",
      " '9/3/2017' '9/4/2017' '9/5/2017' '9/7/2017' '9/8/2017' '9/10/2017'\n",
      " '9/12/2017' '9/14/2017' '4/30/2015' '4/21/2015' '4/5/2015' '3/13/2015'\n",
      " '5/5/2015' '3/29/2015' '6/10/2015' '4/27/2015' '10/17/2014' '1/20/2015'\n",
      " '2/17/2015' '3/10/2015' '3/23/2015'] features\n"
     ]
    }
   ],
   "source": [
    "for col in columns:\n",
    "    print(f\"{col} has {df[col].unique()} features\")"
   ]
  },
  {
   "cell_type": "code",
   "execution_count": null,
   "metadata": {},
   "outputs": [],
   "source": []
  },
  {
   "cell_type": "code",
   "execution_count": null,
   "metadata": {},
   "outputs": [],
   "source": []
  },
  {
   "cell_type": "markdown",
   "metadata": {},
   "source": [
    "## Inconsistent"
   ]
  },
  {
   "cell_type": "code",
   "execution_count": 14,
   "metadata": {},
   "outputs": [
    {
     "data": {
      "text/plain": [
       "hotel                              object\n",
       "is_canceled                         int64\n",
       "lead_time                           int64\n",
       "arrival_date_year                   int64\n",
       "arrival_date_month                 object\n",
       "arrival_date_week_number            int64\n",
       "arrival_date_day_of_month           int64\n",
       "stays_in_weekend_nights             int64\n",
       "stays_in_week_nights                int64\n",
       "adults                              int64\n",
       "children                          float64\n",
       "babies                              int64\n",
       "meal                               object\n",
       "country                            object\n",
       "market_segment                     object\n",
       "distribution_channel               object\n",
       "is_repeated_guest                   int64\n",
       "previous_cancellations              int64\n",
       "previous_bookings_not_canceled      int64\n",
       "reserved_room_type                 object\n",
       "assigned_room_type                 object\n",
       "booking_changes                     int64\n",
       "deposit_type                       object\n",
       "agent                             float64\n",
       "days_in_waiting_list                int64\n",
       "customer_type                      object\n",
       "adr                               float64\n",
       "required_car_parking_spaces         int64\n",
       "total_of_special_requests           int64\n",
       "reservation_status                 object\n",
       "reservation_status_date            object\n",
       "dtype: object"
      ]
     },
     "execution_count": 14,
     "metadata": {},
     "output_type": "execute_result"
    }
   ],
   "source": [
    "df.dtypes"
   ]
  },
  {
   "cell_type": "code",
   "execution_count": 17,
   "metadata": {},
   "outputs": [],
   "source": [
    "#reservation status date is in the form of obj but it should be in the form of date"
   ]
  },
  {
   "cell_type": "code",
   "execution_count": 19,
   "metadata": {},
   "outputs": [
    {
     "name": "stderr",
     "output_type": "stream",
     "text": [
      "<ipython-input-19-fcb060fda559>:1: SettingWithCopyWarning: \n",
      "A value is trying to be set on a copy of a slice from a DataFrame.\n",
      "Try using .loc[row_indexer,col_indexer] = value instead\n",
      "\n",
      "See the caveats in the documentation: https://pandas.pydata.org/pandas-docs/stable/user_guide/indexing.html#returning-a-view-versus-a-copy\n",
      "  data['reservation_status_date']=pd.to_datetime(data['reservation_status_date'])\n",
      "<ipython-input-19-fcb060fda559>:2: SettingWithCopyWarning: \n",
      "A value is trying to be set on a copy of a slice from a DataFrame.\n",
      "Try using .loc[row_indexer,col_indexer] = value instead\n",
      "\n",
      "See the caveats in the documentation: https://pandas.pydata.org/pandas-docs/stable/user_guide/indexing.html#returning-a-view-versus-a-copy\n",
      "  data['year']=data['reservation_status_date'].dt.year\n",
      "<ipython-input-19-fcb060fda559>:3: SettingWithCopyWarning: \n",
      "A value is trying to be set on a copy of a slice from a DataFrame.\n",
      "Try using .loc[row_indexer,col_indexer] = value instead\n",
      "\n",
      "See the caveats in the documentation: https://pandas.pydata.org/pandas-docs/stable/user_guide/indexing.html#returning-a-view-versus-a-copy\n",
      "  data['month']=data['reservation_status_date'].dt.month\n",
      "<ipython-input-19-fcb060fda559>:4: SettingWithCopyWarning: \n",
      "A value is trying to be set on a copy of a slice from a DataFrame.\n",
      "Try using .loc[row_indexer,col_indexer] = value instead\n",
      "\n",
      "See the caveats in the documentation: https://pandas.pydata.org/pandas-docs/stable/user_guide/indexing.html#returning-a-view-versus-a-copy\n",
      "  data['day']=data['reservation_status_date'].dt.day\n"
     ]
    }
   ],
   "source": [
    "\n",
    "data['reservation_status_date']=pd.to_datetime(data['reservation_status_date'])\n",
    "data['year']=data['reservation_status_date'].dt.year\n",
    "data['month']=data['reservation_status_date'].dt.month\n",
    "data['day']=data['reservation_status_date'].dt.day"
   ]
  },
  {
   "cell_type": "code",
   "execution_count": 20,
   "metadata": {},
   "outputs": [
    {
     "data": {
      "text/plain": [
       "hotel                                     object\n",
       "is_canceled                                int64\n",
       "lead_time                                  int64\n",
       "arrival_date_year                          int64\n",
       "arrival_date_month                        object\n",
       "arrival_date_week_number                   int64\n",
       "arrival_date_day_of_month                  int64\n",
       "stays_in_weekend_nights                    int64\n",
       "stays_in_week_nights                       int64\n",
       "adults                                     int64\n",
       "children                                 float64\n",
       "babies                                     int64\n",
       "meal                                      object\n",
       "country                                   object\n",
       "market_segment                            object\n",
       "distribution_channel                      object\n",
       "is_repeated_guest                          int64\n",
       "previous_cancellations                     int64\n",
       "previous_bookings_not_canceled             int64\n",
       "reserved_room_type                        object\n",
       "assigned_room_type                        object\n",
       "booking_changes                            int64\n",
       "deposit_type                              object\n",
       "agent                                    float64\n",
       "days_in_waiting_list                       int64\n",
       "customer_type                             object\n",
       "adr                                      float64\n",
       "required_car_parking_spaces                int64\n",
       "total_of_special_requests                  int64\n",
       "reservation_status                        object\n",
       "reservation_status_date           datetime64[ns]\n",
       "year                                       int64\n",
       "month                                      int64\n",
       "day                                        int64\n",
       "dtype: object"
      ]
     },
     "execution_count": 20,
     "metadata": {},
     "output_type": "execute_result"
    }
   ],
   "source": [
    "data.dtypes"
   ]
  },
  {
   "cell_type": "code",
   "execution_count": 27,
   "metadata": {},
   "outputs": [
    {
     "data": {
      "text/plain": [
       "0         Wednesday\n",
       "1         Wednesday\n",
       "2          Thursday\n",
       "3          Thursday\n",
       "4            Friday\n",
       "            ...    \n",
       "119385    Wednesday\n",
       "119386     Thursday\n",
       "119387     Thursday\n",
       "119388     Thursday\n",
       "119389     Thursday\n",
       "Name: reservation_status_date, Length: 118728, dtype: object"
      ]
     },
     "execution_count": 27,
     "metadata": {},
     "output_type": "execute_result"
    }
   ],
   "source": [
    "#data['reservation_status_date'].dt.day_name()"
   ]
  },
  {
   "cell_type": "code",
   "execution_count": null,
   "metadata": {},
   "outputs": [],
   "source": []
  },
  {
   "cell_type": "code",
   "execution_count": null,
   "metadata": {},
   "outputs": [],
   "source": [
    "#datetime.datetime.strptime(month_number, \"%m\")"
   ]
  },
  {
   "cell_type": "markdown",
   "metadata": {},
   "source": [
    "## outlier (out of range)"
   ]
  },
  {
   "cell_type": "code",
   "execution_count": 36,
   "metadata": {},
   "outputs": [],
   "source": [
    "int_col = data.select_dtypes(include = [\"number\"]).columns"
   ]
  },
  {
   "cell_type": "code",
   "execution_count": 43,
   "metadata": {},
   "outputs": [
    {
     "data": {
      "text/html": [
       "<div>\n",
       "<style scoped>\n",
       "    .dataframe tbody tr th:only-of-type {\n",
       "        vertical-align: middle;\n",
       "    }\n",
       "\n",
       "    .dataframe tbody tr th {\n",
       "        vertical-align: top;\n",
       "    }\n",
       "\n",
       "    .dataframe thead th {\n",
       "        text-align: right;\n",
       "    }\n",
       "</style>\n",
       "<table border=\"1\" class=\"dataframe\">\n",
       "  <thead>\n",
       "    <tr style=\"text-align: right;\">\n",
       "      <th></th>\n",
       "      <th>is_canceled</th>\n",
       "      <th>lead_time</th>\n",
       "      <th>arrival_date_year</th>\n",
       "      <th>arrival_date_week_number</th>\n",
       "      <th>arrival_date_day_of_month</th>\n",
       "      <th>stays_in_weekend_nights</th>\n",
       "      <th>stays_in_week_nights</th>\n",
       "      <th>adults</th>\n",
       "      <th>children</th>\n",
       "      <th>babies</th>\n",
       "      <th>...</th>\n",
       "      <th>previous_bookings_not_canceled</th>\n",
       "      <th>booking_changes</th>\n",
       "      <th>agent</th>\n",
       "      <th>days_in_waiting_list</th>\n",
       "      <th>adr</th>\n",
       "      <th>required_car_parking_spaces</th>\n",
       "      <th>total_of_special_requests</th>\n",
       "      <th>year</th>\n",
       "      <th>month</th>\n",
       "      <th>day</th>\n",
       "    </tr>\n",
       "  </thead>\n",
       "  <tbody>\n",
       "    <tr>\n",
       "      <th>count</th>\n",
       "      <td>118728.000000</td>\n",
       "      <td>118728.000000</td>\n",
       "      <td>118728.000000</td>\n",
       "      <td>118728.000000</td>\n",
       "      <td>118728.000000</td>\n",
       "      <td>118728.000000</td>\n",
       "      <td>118728.000000</td>\n",
       "      <td>118728.000000</td>\n",
       "      <td>118728.000000</td>\n",
       "      <td>118728.000000</td>\n",
       "      <td>...</td>\n",
       "      <td>118728.000000</td>\n",
       "      <td>118728.000000</td>\n",
       "      <td>118728.000000</td>\n",
       "      <td>118728.000000</td>\n",
       "      <td>118728.000000</td>\n",
       "      <td>118728.000000</td>\n",
       "      <td>118728.000000</td>\n",
       "      <td>118728.000000</td>\n",
       "      <td>118728.000000</td>\n",
       "      <td>118728.000000</td>\n",
       "    </tr>\n",
       "    <tr>\n",
       "      <th>mean</th>\n",
       "      <td>0.371757</td>\n",
       "      <td>104.401312</td>\n",
       "      <td>2016.157596</td>\n",
       "      <td>27.165100</td>\n",
       "      <td>15.800965</td>\n",
       "      <td>0.928307</td>\n",
       "      <td>2.500918</td>\n",
       "      <td>1.861052</td>\n",
       "      <td>0.104356</td>\n",
       "      <td>0.007959</td>\n",
       "      <td>...</td>\n",
       "      <td>0.131612</td>\n",
       "      <td>0.218828</td>\n",
       "      <td>86.580566</td>\n",
       "      <td>2.330638</td>\n",
       "      <td>102.133442</td>\n",
       "      <td>0.061915</td>\n",
       "      <td>0.571778</td>\n",
       "      <td>2016.094367</td>\n",
       "      <td>6.334083</td>\n",
       "      <td>15.667391</td>\n",
       "    </tr>\n",
       "    <tr>\n",
       "      <th>std</th>\n",
       "      <td>0.483276</td>\n",
       "      <td>106.915284</td>\n",
       "      <td>0.707456</td>\n",
       "      <td>13.586362</td>\n",
       "      <td>8.780412</td>\n",
       "      <td>0.992725</td>\n",
       "      <td>1.889089</td>\n",
       "      <td>0.574697</td>\n",
       "      <td>0.399439</td>\n",
       "      <td>0.097449</td>\n",
       "      <td>...</td>\n",
       "      <td>1.485300</td>\n",
       "      <td>0.638914</td>\n",
       "      <td>103.021600</td>\n",
       "      <td>17.633065</td>\n",
       "      <td>50.389602</td>\n",
       "      <td>0.244230</td>\n",
       "      <td>0.792740</td>\n",
       "      <td>0.715380</td>\n",
       "      <td>3.343741</td>\n",
       "      <td>8.779596</td>\n",
       "    </tr>\n",
       "    <tr>\n",
       "      <th>min</th>\n",
       "      <td>0.000000</td>\n",
       "      <td>0.000000</td>\n",
       "      <td>2015.000000</td>\n",
       "      <td>1.000000</td>\n",
       "      <td>1.000000</td>\n",
       "      <td>0.000000</td>\n",
       "      <td>0.000000</td>\n",
       "      <td>0.000000</td>\n",
       "      <td>0.000000</td>\n",
       "      <td>0.000000</td>\n",
       "      <td>...</td>\n",
       "      <td>0.000000</td>\n",
       "      <td>0.000000</td>\n",
       "      <td>1.000000</td>\n",
       "      <td>0.000000</td>\n",
       "      <td>-6.380000</td>\n",
       "      <td>0.000000</td>\n",
       "      <td>0.000000</td>\n",
       "      <td>2014.000000</td>\n",
       "      <td>1.000000</td>\n",
       "      <td>1.000000</td>\n",
       "    </tr>\n",
       "    <tr>\n",
       "      <th>25%</th>\n",
       "      <td>0.000000</td>\n",
       "      <td>18.000000</td>\n",
       "      <td>2016.000000</td>\n",
       "      <td>16.000000</td>\n",
       "      <td>8.000000</td>\n",
       "      <td>0.000000</td>\n",
       "      <td>1.000000</td>\n",
       "      <td>2.000000</td>\n",
       "      <td>0.000000</td>\n",
       "      <td>0.000000</td>\n",
       "      <td>...</td>\n",
       "      <td>0.000000</td>\n",
       "      <td>0.000000</td>\n",
       "      <td>9.000000</td>\n",
       "      <td>0.000000</td>\n",
       "      <td>70.000000</td>\n",
       "      <td>0.000000</td>\n",
       "      <td>0.000000</td>\n",
       "      <td>2016.000000</td>\n",
       "      <td>3.000000</td>\n",
       "      <td>8.000000</td>\n",
       "    </tr>\n",
       "    <tr>\n",
       "      <th>50%</th>\n",
       "      <td>0.000000</td>\n",
       "      <td>70.000000</td>\n",
       "      <td>2016.000000</td>\n",
       "      <td>28.000000</td>\n",
       "      <td>16.000000</td>\n",
       "      <td>1.000000</td>\n",
       "      <td>2.000000</td>\n",
       "      <td>2.000000</td>\n",
       "      <td>0.000000</td>\n",
       "      <td>0.000000</td>\n",
       "      <td>...</td>\n",
       "      <td>0.000000</td>\n",
       "      <td>0.000000</td>\n",
       "      <td>28.000000</td>\n",
       "      <td>0.000000</td>\n",
       "      <td>95.000000</td>\n",
       "      <td>0.000000</td>\n",
       "      <td>0.000000</td>\n",
       "      <td>2016.000000</td>\n",
       "      <td>6.000000</td>\n",
       "      <td>16.000000</td>\n",
       "    </tr>\n",
       "    <tr>\n",
       "      <th>75%</th>\n",
       "      <td>1.000000</td>\n",
       "      <td>161.000000</td>\n",
       "      <td>2017.000000</td>\n",
       "      <td>38.000000</td>\n",
       "      <td>23.000000</td>\n",
       "      <td>2.000000</td>\n",
       "      <td>3.000000</td>\n",
       "      <td>2.000000</td>\n",
       "      <td>0.000000</td>\n",
       "      <td>0.000000</td>\n",
       "      <td>...</td>\n",
       "      <td>0.000000</td>\n",
       "      <td>0.000000</td>\n",
       "      <td>153.000000</td>\n",
       "      <td>0.000000</td>\n",
       "      <td>126.000000</td>\n",
       "      <td>0.000000</td>\n",
       "      <td>1.000000</td>\n",
       "      <td>2017.000000</td>\n",
       "      <td>9.000000</td>\n",
       "      <td>23.000000</td>\n",
       "    </tr>\n",
       "    <tr>\n",
       "      <th>max</th>\n",
       "      <td>1.000000</td>\n",
       "      <td>737.000000</td>\n",
       "      <td>2017.000000</td>\n",
       "      <td>53.000000</td>\n",
       "      <td>31.000000</td>\n",
       "      <td>16.000000</td>\n",
       "      <td>40.000000</td>\n",
       "      <td>55.000000</td>\n",
       "      <td>10.000000</td>\n",
       "      <td>10.000000</td>\n",
       "      <td>...</td>\n",
       "      <td>72.000000</td>\n",
       "      <td>18.000000</td>\n",
       "      <td>535.000000</td>\n",
       "      <td>391.000000</td>\n",
       "      <td>5400.000000</td>\n",
       "      <td>8.000000</td>\n",
       "      <td>5.000000</td>\n",
       "      <td>2017.000000</td>\n",
       "      <td>12.000000</td>\n",
       "      <td>31.000000</td>\n",
       "    </tr>\n",
       "  </tbody>\n",
       "</table>\n",
       "<p>8 rows × 22 columns</p>\n",
       "</div>"
      ],
      "text/plain": [
       "         is_canceled      lead_time  arrival_date_year  \\\n",
       "count  118728.000000  118728.000000      118728.000000   \n",
       "mean        0.371757     104.401312        2016.157596   \n",
       "std         0.483276     106.915284           0.707456   \n",
       "min         0.000000       0.000000        2015.000000   \n",
       "25%         0.000000      18.000000        2016.000000   \n",
       "50%         0.000000      70.000000        2016.000000   \n",
       "75%         1.000000     161.000000        2017.000000   \n",
       "max         1.000000     737.000000        2017.000000   \n",
       "\n",
       "       arrival_date_week_number  arrival_date_day_of_month  \\\n",
       "count             118728.000000              118728.000000   \n",
       "mean                  27.165100                  15.800965   \n",
       "std                   13.586362                   8.780412   \n",
       "min                    1.000000                   1.000000   \n",
       "25%                   16.000000                   8.000000   \n",
       "50%                   28.000000                  16.000000   \n",
       "75%                   38.000000                  23.000000   \n",
       "max                   53.000000                  31.000000   \n",
       "\n",
       "       stays_in_weekend_nights  stays_in_week_nights         adults  \\\n",
       "count            118728.000000         118728.000000  118728.000000   \n",
       "mean                  0.928307              2.500918       1.861052   \n",
       "std                   0.992725              1.889089       0.574697   \n",
       "min                   0.000000              0.000000       0.000000   \n",
       "25%                   0.000000              1.000000       2.000000   \n",
       "50%                   1.000000              2.000000       2.000000   \n",
       "75%                   2.000000              3.000000       2.000000   \n",
       "max                  16.000000             40.000000      55.000000   \n",
       "\n",
       "            children         babies  ...  previous_bookings_not_canceled  \\\n",
       "count  118728.000000  118728.000000  ...                   118728.000000   \n",
       "mean        0.104356       0.007959  ...                        0.131612   \n",
       "std         0.399439       0.097449  ...                        1.485300   \n",
       "min         0.000000       0.000000  ...                        0.000000   \n",
       "25%         0.000000       0.000000  ...                        0.000000   \n",
       "50%         0.000000       0.000000  ...                        0.000000   \n",
       "75%         0.000000       0.000000  ...                        0.000000   \n",
       "max        10.000000      10.000000  ...                       72.000000   \n",
       "\n",
       "       booking_changes          agent  days_in_waiting_list            adr  \\\n",
       "count    118728.000000  118728.000000         118728.000000  118728.000000   \n",
       "mean          0.218828      86.580566              2.330638     102.133442   \n",
       "std           0.638914     103.021600             17.633065      50.389602   \n",
       "min           0.000000       1.000000              0.000000      -6.380000   \n",
       "25%           0.000000       9.000000              0.000000      70.000000   \n",
       "50%           0.000000      28.000000              0.000000      95.000000   \n",
       "75%           0.000000     153.000000              0.000000     126.000000   \n",
       "max          18.000000     535.000000            391.000000    5400.000000   \n",
       "\n",
       "       required_car_parking_spaces  total_of_special_requests           year  \\\n",
       "count                118728.000000              118728.000000  118728.000000   \n",
       "mean                      0.061915                   0.571778    2016.094367   \n",
       "std                       0.244230                   0.792740       0.715380   \n",
       "min                       0.000000                   0.000000    2014.000000   \n",
       "25%                       0.000000                   0.000000    2016.000000   \n",
       "50%                       0.000000                   0.000000    2016.000000   \n",
       "75%                       0.000000                   1.000000    2017.000000   \n",
       "max                       8.000000                   5.000000    2017.000000   \n",
       "\n",
       "               month            day  \n",
       "count  118728.000000  118728.000000  \n",
       "mean        6.334083      15.667391  \n",
       "std         3.343741       8.779596  \n",
       "min         1.000000       1.000000  \n",
       "25%         3.000000       8.000000  \n",
       "50%         6.000000      16.000000  \n",
       "75%         9.000000      23.000000  \n",
       "max        12.000000      31.000000  \n",
       "\n",
       "[8 rows x 22 columns]"
      ]
     },
     "execution_count": 43,
     "metadata": {},
     "output_type": "execute_result"
    }
   ],
   "source": [
    "data.describe()"
   ]
  },
  {
   "cell_type": "code",
   "execution_count": 44,
   "metadata": {},
   "outputs": [],
   "source": [
    "data.to_csv(\"hotel_bookings_clean.csv\")"
   ]
  },
  {
   "cell_type": "code",
   "execution_count": 45,
   "metadata": {},
   "outputs": [
    {
     "data": {
      "text/html": [
       "<div>\n",
       "<style scoped>\n",
       "    .dataframe tbody tr th:only-of-type {\n",
       "        vertical-align: middle;\n",
       "    }\n",
       "\n",
       "    .dataframe tbody tr th {\n",
       "        vertical-align: top;\n",
       "    }\n",
       "\n",
       "    .dataframe thead th {\n",
       "        text-align: right;\n",
       "    }\n",
       "</style>\n",
       "<table border=\"1\" class=\"dataframe\">\n",
       "  <thead>\n",
       "    <tr style=\"text-align: right;\">\n",
       "      <th></th>\n",
       "      <th>hotel</th>\n",
       "      <th>is_canceled</th>\n",
       "      <th>lead_time</th>\n",
       "      <th>arrival_date_year</th>\n",
       "      <th>arrival_date_month</th>\n",
       "      <th>arrival_date_week_number</th>\n",
       "      <th>arrival_date_day_of_month</th>\n",
       "      <th>stays_in_weekend_nights</th>\n",
       "      <th>stays_in_week_nights</th>\n",
       "      <th>adults</th>\n",
       "      <th>...</th>\n",
       "      <th>days_in_waiting_list</th>\n",
       "      <th>customer_type</th>\n",
       "      <th>adr</th>\n",
       "      <th>required_car_parking_spaces</th>\n",
       "      <th>total_of_special_requests</th>\n",
       "      <th>reservation_status</th>\n",
       "      <th>reservation_status_date</th>\n",
       "      <th>year</th>\n",
       "      <th>month</th>\n",
       "      <th>day</th>\n",
       "    </tr>\n",
       "  </thead>\n",
       "  <tbody>\n",
       "    <tr>\n",
       "      <th>0</th>\n",
       "      <td>Resort Hotel</td>\n",
       "      <td>0</td>\n",
       "      <td>342</td>\n",
       "      <td>2015</td>\n",
       "      <td>July</td>\n",
       "      <td>27</td>\n",
       "      <td>1</td>\n",
       "      <td>0</td>\n",
       "      <td>0</td>\n",
       "      <td>2</td>\n",
       "      <td>...</td>\n",
       "      <td>0</td>\n",
       "      <td>Transient</td>\n",
       "      <td>0.0</td>\n",
       "      <td>0</td>\n",
       "      <td>0</td>\n",
       "      <td>Check-Out</td>\n",
       "      <td>2015-07-01</td>\n",
       "      <td>2015</td>\n",
       "      <td>7</td>\n",
       "      <td>1</td>\n",
       "    </tr>\n",
       "    <tr>\n",
       "      <th>1</th>\n",
       "      <td>Resort Hotel</td>\n",
       "      <td>0</td>\n",
       "      <td>737</td>\n",
       "      <td>2015</td>\n",
       "      <td>July</td>\n",
       "      <td>27</td>\n",
       "      <td>1</td>\n",
       "      <td>0</td>\n",
       "      <td>0</td>\n",
       "      <td>2</td>\n",
       "      <td>...</td>\n",
       "      <td>0</td>\n",
       "      <td>Transient</td>\n",
       "      <td>0.0</td>\n",
       "      <td>0</td>\n",
       "      <td>0</td>\n",
       "      <td>Check-Out</td>\n",
       "      <td>2015-07-01</td>\n",
       "      <td>2015</td>\n",
       "      <td>7</td>\n",
       "      <td>1</td>\n",
       "    </tr>\n",
       "    <tr>\n",
       "      <th>2</th>\n",
       "      <td>Resort Hotel</td>\n",
       "      <td>0</td>\n",
       "      <td>7</td>\n",
       "      <td>2015</td>\n",
       "      <td>July</td>\n",
       "      <td>27</td>\n",
       "      <td>1</td>\n",
       "      <td>0</td>\n",
       "      <td>1</td>\n",
       "      <td>1</td>\n",
       "      <td>...</td>\n",
       "      <td>0</td>\n",
       "      <td>Transient</td>\n",
       "      <td>75.0</td>\n",
       "      <td>0</td>\n",
       "      <td>0</td>\n",
       "      <td>Check-Out</td>\n",
       "      <td>2015-07-02</td>\n",
       "      <td>2015</td>\n",
       "      <td>7</td>\n",
       "      <td>2</td>\n",
       "    </tr>\n",
       "    <tr>\n",
       "      <th>3</th>\n",
       "      <td>Resort Hotel</td>\n",
       "      <td>0</td>\n",
       "      <td>13</td>\n",
       "      <td>2015</td>\n",
       "      <td>July</td>\n",
       "      <td>27</td>\n",
       "      <td>1</td>\n",
       "      <td>0</td>\n",
       "      <td>1</td>\n",
       "      <td>1</td>\n",
       "      <td>...</td>\n",
       "      <td>0</td>\n",
       "      <td>Transient</td>\n",
       "      <td>75.0</td>\n",
       "      <td>0</td>\n",
       "      <td>0</td>\n",
       "      <td>Check-Out</td>\n",
       "      <td>2015-07-02</td>\n",
       "      <td>2015</td>\n",
       "      <td>7</td>\n",
       "      <td>2</td>\n",
       "    </tr>\n",
       "    <tr>\n",
       "      <th>4</th>\n",
       "      <td>Resort Hotel</td>\n",
       "      <td>0</td>\n",
       "      <td>14</td>\n",
       "      <td>2015</td>\n",
       "      <td>July</td>\n",
       "      <td>27</td>\n",
       "      <td>1</td>\n",
       "      <td>0</td>\n",
       "      <td>2</td>\n",
       "      <td>2</td>\n",
       "      <td>...</td>\n",
       "      <td>0</td>\n",
       "      <td>Transient</td>\n",
       "      <td>98.0</td>\n",
       "      <td>0</td>\n",
       "      <td>1</td>\n",
       "      <td>Check-Out</td>\n",
       "      <td>2015-07-03</td>\n",
       "      <td>2015</td>\n",
       "      <td>7</td>\n",
       "      <td>3</td>\n",
       "    </tr>\n",
       "  </tbody>\n",
       "</table>\n",
       "<p>5 rows × 34 columns</p>\n",
       "</div>"
      ],
      "text/plain": [
       "          hotel  is_canceled  lead_time  arrival_date_year arrival_date_month  \\\n",
       "0  Resort Hotel            0        342               2015               July   \n",
       "1  Resort Hotel            0        737               2015               July   \n",
       "2  Resort Hotel            0          7               2015               July   \n",
       "3  Resort Hotel            0         13               2015               July   \n",
       "4  Resort Hotel            0         14               2015               July   \n",
       "\n",
       "   arrival_date_week_number  arrival_date_day_of_month  \\\n",
       "0                        27                          1   \n",
       "1                        27                          1   \n",
       "2                        27                          1   \n",
       "3                        27                          1   \n",
       "4                        27                          1   \n",
       "\n",
       "   stays_in_weekend_nights  stays_in_week_nights  adults  ...  \\\n",
       "0                        0                     0       2  ...   \n",
       "1                        0                     0       2  ...   \n",
       "2                        0                     1       1  ...   \n",
       "3                        0                     1       1  ...   \n",
       "4                        0                     2       2  ...   \n",
       "\n",
       "   days_in_waiting_list  customer_type   adr required_car_parking_spaces  \\\n",
       "0                     0      Transient   0.0                           0   \n",
       "1                     0      Transient   0.0                           0   \n",
       "2                     0      Transient  75.0                           0   \n",
       "3                     0      Transient  75.0                           0   \n",
       "4                     0      Transient  98.0                           0   \n",
       "\n",
       "  total_of_special_requests reservation_status  reservation_status_date  year  \\\n",
       "0                         0          Check-Out               2015-07-01  2015   \n",
       "1                         0          Check-Out               2015-07-01  2015   \n",
       "2                         0          Check-Out               2015-07-02  2015   \n",
       "3                         0          Check-Out               2015-07-02  2015   \n",
       "4                         1          Check-Out               2015-07-03  2015   \n",
       "\n",
       "   month day  \n",
       "0      7   1  \n",
       "1      7   1  \n",
       "2      7   2  \n",
       "3      7   2  \n",
       "4      7   3  \n",
       "\n",
       "[5 rows x 34 columns]"
      ]
     },
     "execution_count": 45,
     "metadata": {},
     "output_type": "execute_result"
    }
   ],
   "source": [
    "data.head()"
   ]
  },
  {
   "cell_type": "code",
   "execution_count": null,
   "metadata": {},
   "outputs": [],
   "source": []
  }
 ],
 "metadata": {
  "kernelspec": {
   "display_name": "Python 3 (ipykernel)",
   "language": "python",
   "name": "python3"
  },
  "language_info": {
   "codemirror_mode": {
    "name": "ipython",
    "version": 3
   },
   "file_extension": ".py",
   "mimetype": "text/x-python",
   "name": "python",
   "nbconvert_exporter": "python",
   "pygments_lexer": "ipython3",
   "version": "3.9.12"
  }
 },
 "nbformat": 4,
 "nbformat_minor": 4
}
