{
 "cells": [
  {
   "cell_type": "code",
   "execution_count": 3,
   "metadata": {},
   "outputs": [],
   "source": [
    "import pandas as pd\n",
    "import numpy as np\n",
    "import matplotlib.pyplot as plt\n",
    "import seaborn as sns"
   ]
  },
  {
   "cell_type": "code",
   "execution_count": 6,
   "metadata": {},
   "outputs": [],
   "source": [
    "df = pd.read_csv(\"hotel_bookings_clean.csv\" )\n",
    "df.drop('Unnamed: 0',axis = 1,inplace =  True)"
   ]
  },
  {
   "cell_type": "code",
   "execution_count": 7,
   "metadata": {},
   "outputs": [
    {
     "data": {
      "text/plain": [
       "Index(['hotel', 'is_canceled', 'lead_time', 'arrival_date_year',\n",
       "       'arrival_date_month', 'arrival_date_week_number',\n",
       "       'arrival_date_day_of_month', 'stays_in_weekend_nights',\n",
       "       'stays_in_week_nights', 'adults', 'children', 'babies', 'meal',\n",
       "       'country', 'market_segment', 'distribution_channel',\n",
       "       'is_repeated_guest', 'previous_cancellations',\n",
       "       'previous_bookings_not_canceled', 'reserved_room_type',\n",
       "       'assigned_room_type', 'booking_changes', 'deposit_type', 'agent',\n",
       "       'days_in_waiting_list', 'customer_type', 'adr',\n",
       "       'required_car_parking_spaces', 'total_of_special_requests',\n",
       "       'reservation_status', 'reservation_status_date', 'year', 'month',\n",
       "       'day'],\n",
       "      dtype='object')"
      ]
     },
     "execution_count": 7,
     "metadata": {},
     "output_type": "execute_result"
    }
   ],
   "source": [
    "df.columns"
   ]
  },
  {
   "cell_type": "code",
   "execution_count": 8,
   "metadata": {},
   "outputs": [
    {
     "data": {
      "text/plain": [
       "lead_time                         0.291602\n",
       "total_of_special_requests         0.235923\n",
       "required_car_parking_spaces       0.195012\n",
       "booking_changes                   0.145136\n",
       "year                              0.117552\n",
       "previous_cancellations            0.109909\n",
       "is_repeated_guest                 0.084141\n",
       "agent                             0.077208\n",
       "month                             0.069259\n",
       "adults                            0.056130\n",
       "previous_bookings_not_canceled    0.055502\n",
       "days_in_waiting_list              0.054113\n",
       "adr                               0.044885\n",
       "day                               0.034031\n",
       "babies                            0.032605\n",
       "stays_in_week_nights              0.024803\n",
       "arrival_date_year                 0.016408\n",
       "arrival_date_week_number          0.007664\n",
       "arrival_date_day_of_month         0.006002\n",
       "children                          0.004535\n",
       "stays_in_weekend_nights           0.002223\n",
       "Name: is_canceled, dtype: float64"
      ]
     },
     "execution_count": 8,
     "metadata": {},
     "output_type": "execute_result"
    }
   ],
   "source": [
    "abs(df.corr()[\"is_canceled\"]).sort_values(ascending = False)[1:]"
   ]
  },
  {
   "cell_type": "markdown",
   "metadata": {},
   "source": [
    "**From this list it is apparent that lead_time, total_of_special_requests, required_car_parking_spaces, booking_changes and previous_cancellations are the 5 most important numerical features.\n",
    "year is also co-related but for prediction purpose we cant us this one**"
   ]
  },
  {
   "cell_type": "markdown",
   "metadata": {},
   "source": [
    "by the domain knowledge we know that these column should be excluded \n",
    "\n",
    "*'days_in_waiting_list','arrival_date_year','year','month','day'*"
   ]
  },
  {
   "cell_type": "code",
   "execution_count": 12,
   "metadata": {},
   "outputs": [
    {
     "data": {
      "text/plain": [
       "['is_canceled',\n",
       " 'lead_time',\n",
       " 'arrival_date_week_number',\n",
       " 'arrival_date_day_of_month',\n",
       " 'stays_in_weekend_nights',\n",
       " 'stays_in_week_nights',\n",
       " 'adults',\n",
       " 'children',\n",
       " 'babies',\n",
       " 'is_repeated_guest',\n",
       " 'previous_cancellations',\n",
       " 'previous_bookings_not_canceled',\n",
       " 'booking_changes',\n",
       " 'agent',\n",
       " 'adr',\n",
       " 'required_car_parking_spaces',\n",
       " 'total_of_special_requests',\n",
       " 'year',\n",
       " 'month',\n",
       " 'day']"
      ]
     },
     "execution_count": 12,
     "metadata": {},
     "output_type": "execute_result"
    }
   ],
   "source": [
    "num_not=['days_in_waiting_list','arrival_date_year']\n",
    "num_features = [col for col in df.columns if df[col].dtype != 'object' and col not in num_not]\n",
    "num_features"
   ]
  },
  {
   "cell_type": "markdown",
   "metadata": {},
   "source": [
    "by the domain knowledge i am removing these col for cat feature\n",
    "\n",
    "*'arrival_date_year', 'assigned_room_type', 'booking_changes', 'reservation_status', 'country','days_in_waiting_list' , 'reservation_status_date'*"
   ]
  },
  {
   "cell_type": "code",
   "execution_count": 13,
   "metadata": {},
   "outputs": [
    {
     "data": {
      "text/plain": [
       "['hotel',\n",
       " 'arrival_date_month',\n",
       " 'meal',\n",
       " 'market_segment',\n",
       " 'distribution_channel',\n",
       " 'reserved_room_type',\n",
       " 'deposit_type',\n",
       " 'customer_type']"
      ]
     },
     "execution_count": 13,
     "metadata": {},
     "output_type": "execute_result"
    }
   ],
   "source": [
    "cat_not=['arrival_date_year', 'assigned_room_type', 'booking_changes', \n",
    "         'reservation_status', 'reservation_status_date' , 'country','days_in_waiting_list']\n",
    "cat_features = [col for col in df.columns if df[col].dtype == 'object' and col not in cat_not]\n",
    "cat_features"
   ]
  },
  {
   "cell_type": "markdown",
   "metadata": {},
   "source": [
    "## Feature Encoding\n",
    "**Applying Mean Encoding**"
   ]
  },
  {
   "cell_type": "code",
   "execution_count": 14,
   "metadata": {},
   "outputs": [],
   "source": [
    "cat = df[cat_features]"
   ]
  },
  {
   "cell_type": "code",
   "execution_count": 15,
   "metadata": {},
   "outputs": [
    {
     "name": "stderr",
     "output_type": "stream",
     "text": [
      "<ipython-input-15-2e1820cf5683>:1: SettingWithCopyWarning: \n",
      "A value is trying to be set on a copy of a slice from a DataFrame.\n",
      "Try using .loc[row_indexer,col_indexer] = value instead\n",
      "\n",
      "See the caveats in the documentation: https://pandas.pydata.org/pandas-docs/stable/user_guide/indexing.html#returning-a-view-versus-a-copy\n",
      "  cat['classification'] = df[\"is_canceled\"]\n"
     ]
    }
   ],
   "source": [
    "cat['classification'] = df[\"is_canceled\"]"
   ]
  },
  {
   "cell_type": "code",
   "execution_count": 16,
   "metadata": {},
   "outputs": [
    {
     "name": "stdout",
     "output_type": "stream",
     "text": [
      "{'City Hotel': 0.4177375131091821, 'Resort Hotel': 0.27982821775925226}\n",
      "{'April': 0.40858851241166877, 'August': 0.37814397224631396, 'December': 0.35216095380029805, 'February': 0.336751281730649, 'January': 0.3077054210705762, 'July': 0.3751486797240504, 'June': 0.4152239626270954, 'March': 0.3239987645423659, 'May': 0.39743371855880355, 'November': 0.31496062992125984, 'October': 0.3815195813030139, 'September': 0.3919112725882016}\n",
      "{'BB': 0.37529551471309197, 'FB': 0.5989974937343359, 'HB': 0.3451382632199044, 'SC': 0.3741348250687399, 'Undefined': 0.24549356223175967}\n",
      "{'Aviation': 0.22127659574468084, 'Complementary': 0.12258953168044077, 'Corporate': 0.19180231417925084, 'Direct': 0.15453960077269802, 'Groups': 0.6112402708986152, 'Offline TA/TO': 0.342839378238342, 'Online TA': 0.36806134947544067}\n",
      "{'Corporate': 0.22466007416563658, 'Direct': 0.17591695501730104, 'GDS': 0.19170984455958548, 'TA/TO': 0.4108613695037495, 'Undefined': 0.0}\n",
      "{'A': 0.3927702386523163, 'B': 0.32673267326732675, 'C': 0.3311827956989247, 'D': 0.3185212260456373, 'E': 0.2936275266162629, 'F': 0.30481468652580535, 'G': 0.36665064872657377, 'H': 0.40765391014975044, 'L': 0.3333333333333333}\n",
      "{'No Deposit': 0.284846095410268, 'Non Refund': 0.9936183352775682, 'Refundable': 0.2222222222222222}\n",
      "{'Contract': 0.3099214145383104, 'Group': 0.10211267605633803, 'Transient': 0.4093277631785819, 'Transient-Party': 0.2543327210286718}\n"
     ]
    }
   ],
   "source": [
    "for col in cat_features:\n",
    "    print(cat.groupby([col])['classification'].mean().to_dict())"
   ]
  },
  {
   "cell_type": "code",
   "execution_count": 17,
   "metadata": {},
   "outputs": [
    {
     "name": "stderr",
     "output_type": "stream",
     "text": [
      "<ipython-input-17-15d8e8fb23d0>:3: SettingWithCopyWarning: \n",
      "A value is trying to be set on a copy of a slice from a DataFrame.\n",
      "Try using .loc[row_indexer,col_indexer] = value instead\n",
      "\n",
      "See the caveats in the documentation: https://pandas.pydata.org/pandas-docs/stable/user_guide/indexing.html#returning-a-view-versus-a-copy\n",
      "  cat[col]=cat[col].map(dict)\n"
     ]
    }
   ],
   "source": [
    "for col in cat_features:\n",
    "    dict = cat.groupby([col])['classification'].mean().to_dict()\n",
    "    cat[col]=cat[col].map(dict)"
   ]
  },
  {
   "cell_type": "markdown",
   "metadata": {},
   "source": [
    "for understanding map function \n",
    "\n",
    "click here\n",
    "<!--\n",
    "s = pd.Series(['cat', 'dog', np.nan, 'rabbit'])\n",
    "s.map({'cat': 'kitten', 'dog': 'puppy'})\n",
    "ouput = kitten ,puppy\n",
    "\n",
    "-->"
   ]
  },
  {
   "cell_type": "code",
   "execution_count": 18,
   "metadata": {},
   "outputs": [
    {
     "data": {
      "text/html": [
       "<div>\n",
       "<style scoped>\n",
       "    .dataframe tbody tr th:only-of-type {\n",
       "        vertical-align: middle;\n",
       "    }\n",
       "\n",
       "    .dataframe tbody tr th {\n",
       "        vertical-align: top;\n",
       "    }\n",
       "\n",
       "    .dataframe thead th {\n",
       "        text-align: right;\n",
       "    }\n",
       "</style>\n",
       "<table border=\"1\" class=\"dataframe\">\n",
       "  <thead>\n",
       "    <tr style=\"text-align: right;\">\n",
       "      <th></th>\n",
       "      <th>hotel</th>\n",
       "      <th>arrival_date_month</th>\n",
       "      <th>meal</th>\n",
       "      <th>market_segment</th>\n",
       "      <th>distribution_channel</th>\n",
       "      <th>reserved_room_type</th>\n",
       "      <th>deposit_type</th>\n",
       "      <th>customer_type</th>\n",
       "      <th>classification</th>\n",
       "    </tr>\n",
       "  </thead>\n",
       "  <tbody>\n",
       "    <tr>\n",
       "      <th>0</th>\n",
       "      <td>0.279828</td>\n",
       "      <td>0.375149</td>\n",
       "      <td>0.375296</td>\n",
       "      <td>0.154540</td>\n",
       "      <td>0.175917</td>\n",
       "      <td>0.331183</td>\n",
       "      <td>0.284846</td>\n",
       "      <td>0.409328</td>\n",
       "      <td>0</td>\n",
       "    </tr>\n",
       "    <tr>\n",
       "      <th>1</th>\n",
       "      <td>0.279828</td>\n",
       "      <td>0.375149</td>\n",
       "      <td>0.375296</td>\n",
       "      <td>0.154540</td>\n",
       "      <td>0.175917</td>\n",
       "      <td>0.331183</td>\n",
       "      <td>0.284846</td>\n",
       "      <td>0.409328</td>\n",
       "      <td>0</td>\n",
       "    </tr>\n",
       "    <tr>\n",
       "      <th>2</th>\n",
       "      <td>0.279828</td>\n",
       "      <td>0.375149</td>\n",
       "      <td>0.375296</td>\n",
       "      <td>0.154540</td>\n",
       "      <td>0.175917</td>\n",
       "      <td>0.392770</td>\n",
       "      <td>0.284846</td>\n",
       "      <td>0.409328</td>\n",
       "      <td>0</td>\n",
       "    </tr>\n",
       "    <tr>\n",
       "      <th>3</th>\n",
       "      <td>0.279828</td>\n",
       "      <td>0.375149</td>\n",
       "      <td>0.375296</td>\n",
       "      <td>0.191802</td>\n",
       "      <td>0.224660</td>\n",
       "      <td>0.392770</td>\n",
       "      <td>0.284846</td>\n",
       "      <td>0.409328</td>\n",
       "      <td>0</td>\n",
       "    </tr>\n",
       "    <tr>\n",
       "      <th>4</th>\n",
       "      <td>0.279828</td>\n",
       "      <td>0.375149</td>\n",
       "      <td>0.375296</td>\n",
       "      <td>0.368061</td>\n",
       "      <td>0.410861</td>\n",
       "      <td>0.392770</td>\n",
       "      <td>0.284846</td>\n",
       "      <td>0.409328</td>\n",
       "      <td>0</td>\n",
       "    </tr>\n",
       "    <tr>\n",
       "      <th>...</th>\n",
       "      <td>...</td>\n",
       "      <td>...</td>\n",
       "      <td>...</td>\n",
       "      <td>...</td>\n",
       "      <td>...</td>\n",
       "      <td>...</td>\n",
       "      <td>...</td>\n",
       "      <td>...</td>\n",
       "      <td>...</td>\n",
       "    </tr>\n",
       "    <tr>\n",
       "      <th>118723</th>\n",
       "      <td>0.417738</td>\n",
       "      <td>0.378144</td>\n",
       "      <td>0.375296</td>\n",
       "      <td>0.342839</td>\n",
       "      <td>0.410861</td>\n",
       "      <td>0.392770</td>\n",
       "      <td>0.284846</td>\n",
       "      <td>0.409328</td>\n",
       "      <td>0</td>\n",
       "    </tr>\n",
       "    <tr>\n",
       "      <th>118724</th>\n",
       "      <td>0.417738</td>\n",
       "      <td>0.378144</td>\n",
       "      <td>0.375296</td>\n",
       "      <td>0.368061</td>\n",
       "      <td>0.410861</td>\n",
       "      <td>0.293628</td>\n",
       "      <td>0.284846</td>\n",
       "      <td>0.409328</td>\n",
       "      <td>0</td>\n",
       "    </tr>\n",
       "    <tr>\n",
       "      <th>118725</th>\n",
       "      <td>0.417738</td>\n",
       "      <td>0.378144</td>\n",
       "      <td>0.375296</td>\n",
       "      <td>0.368061</td>\n",
       "      <td>0.410861</td>\n",
       "      <td>0.318521</td>\n",
       "      <td>0.284846</td>\n",
       "      <td>0.409328</td>\n",
       "      <td>0</td>\n",
       "    </tr>\n",
       "    <tr>\n",
       "      <th>118726</th>\n",
       "      <td>0.417738</td>\n",
       "      <td>0.378144</td>\n",
       "      <td>0.375296</td>\n",
       "      <td>0.368061</td>\n",
       "      <td>0.410861</td>\n",
       "      <td>0.392770</td>\n",
       "      <td>0.284846</td>\n",
       "      <td>0.409328</td>\n",
       "      <td>0</td>\n",
       "    </tr>\n",
       "    <tr>\n",
       "      <th>118727</th>\n",
       "      <td>0.417738</td>\n",
       "      <td>0.378144</td>\n",
       "      <td>0.345138</td>\n",
       "      <td>0.368061</td>\n",
       "      <td>0.410861</td>\n",
       "      <td>0.392770</td>\n",
       "      <td>0.284846</td>\n",
       "      <td>0.409328</td>\n",
       "      <td>0</td>\n",
       "    </tr>\n",
       "  </tbody>\n",
       "</table>\n",
       "<p>118728 rows × 9 columns</p>\n",
       "</div>"
      ],
      "text/plain": [
       "           hotel  arrival_date_month      meal  market_segment  \\\n",
       "0       0.279828            0.375149  0.375296        0.154540   \n",
       "1       0.279828            0.375149  0.375296        0.154540   \n",
       "2       0.279828            0.375149  0.375296        0.154540   \n",
       "3       0.279828            0.375149  0.375296        0.191802   \n",
       "4       0.279828            0.375149  0.375296        0.368061   \n",
       "...          ...                 ...       ...             ...   \n",
       "118723  0.417738            0.378144  0.375296        0.342839   \n",
       "118724  0.417738            0.378144  0.375296        0.368061   \n",
       "118725  0.417738            0.378144  0.375296        0.368061   \n",
       "118726  0.417738            0.378144  0.375296        0.368061   \n",
       "118727  0.417738            0.378144  0.345138        0.368061   \n",
       "\n",
       "        distribution_channel  reserved_room_type  deposit_type  customer_type  \\\n",
       "0                   0.175917            0.331183      0.284846       0.409328   \n",
       "1                   0.175917            0.331183      0.284846       0.409328   \n",
       "2                   0.175917            0.392770      0.284846       0.409328   \n",
       "3                   0.224660            0.392770      0.284846       0.409328   \n",
       "4                   0.410861            0.392770      0.284846       0.409328   \n",
       "...                      ...                 ...           ...            ...   \n",
       "118723              0.410861            0.392770      0.284846       0.409328   \n",
       "118724              0.410861            0.293628      0.284846       0.409328   \n",
       "118725              0.410861            0.318521      0.284846       0.409328   \n",
       "118726              0.410861            0.392770      0.284846       0.409328   \n",
       "118727              0.410861            0.392770      0.284846       0.409328   \n",
       "\n",
       "        classification  \n",
       "0                    0  \n",
       "1                    0  \n",
       "2                    0  \n",
       "3                    0  \n",
       "4                    0  \n",
       "...                ...  \n",
       "118723               0  \n",
       "118724               0  \n",
       "118725               0  \n",
       "118726               0  \n",
       "118727               0  \n",
       "\n",
       "[118728 rows x 9 columns]"
      ]
     },
     "execution_count": 18,
     "metadata": {},
     "output_type": "execute_result"
    }
   ],
   "source": [
    "cat"
   ]
  },
  {
   "cell_type": "code",
   "execution_count": 19,
   "metadata": {},
   "outputs": [],
   "source": [
    "dataframe=pd.concat([cat,df[num_features]],axis=1)"
   ]
  },
  {
   "cell_type": "code",
   "execution_count": 20,
   "metadata": {},
   "outputs": [
    {
     "data": {
      "text/html": [
       "<div>\n",
       "<style scoped>\n",
       "    .dataframe tbody tr th:only-of-type {\n",
       "        vertical-align: middle;\n",
       "    }\n",
       "\n",
       "    .dataframe tbody tr th {\n",
       "        vertical-align: top;\n",
       "    }\n",
       "\n",
       "    .dataframe thead th {\n",
       "        text-align: right;\n",
       "    }\n",
       "</style>\n",
       "<table border=\"1\" class=\"dataframe\">\n",
       "  <thead>\n",
       "    <tr style=\"text-align: right;\">\n",
       "      <th></th>\n",
       "      <th>hotel</th>\n",
       "      <th>arrival_date_month</th>\n",
       "      <th>meal</th>\n",
       "      <th>market_segment</th>\n",
       "      <th>distribution_channel</th>\n",
       "      <th>reserved_room_type</th>\n",
       "      <th>deposit_type</th>\n",
       "      <th>customer_type</th>\n",
       "      <th>classification</th>\n",
       "      <th>is_canceled</th>\n",
       "      <th>...</th>\n",
       "      <th>previous_cancellations</th>\n",
       "      <th>previous_bookings_not_canceled</th>\n",
       "      <th>booking_changes</th>\n",
       "      <th>agent</th>\n",
       "      <th>adr</th>\n",
       "      <th>required_car_parking_spaces</th>\n",
       "      <th>total_of_special_requests</th>\n",
       "      <th>year</th>\n",
       "      <th>month</th>\n",
       "      <th>day</th>\n",
       "    </tr>\n",
       "  </thead>\n",
       "  <tbody>\n",
       "    <tr>\n",
       "      <th>0</th>\n",
       "      <td>0.279828</td>\n",
       "      <td>0.375149</td>\n",
       "      <td>0.375296</td>\n",
       "      <td>0.154540</td>\n",
       "      <td>0.175917</td>\n",
       "      <td>0.331183</td>\n",
       "      <td>0.284846</td>\n",
       "      <td>0.409328</td>\n",
       "      <td>0</td>\n",
       "      <td>0</td>\n",
       "      <td>...</td>\n",
       "      <td>0</td>\n",
       "      <td>0</td>\n",
       "      <td>3</td>\n",
       "      <td>86.545532</td>\n",
       "      <td>0.0</td>\n",
       "      <td>0</td>\n",
       "      <td>0</td>\n",
       "      <td>2015</td>\n",
       "      <td>7</td>\n",
       "      <td>1</td>\n",
       "    </tr>\n",
       "    <tr>\n",
       "      <th>1</th>\n",
       "      <td>0.279828</td>\n",
       "      <td>0.375149</td>\n",
       "      <td>0.375296</td>\n",
       "      <td>0.154540</td>\n",
       "      <td>0.175917</td>\n",
       "      <td>0.331183</td>\n",
       "      <td>0.284846</td>\n",
       "      <td>0.409328</td>\n",
       "      <td>0</td>\n",
       "      <td>0</td>\n",
       "      <td>...</td>\n",
       "      <td>0</td>\n",
       "      <td>0</td>\n",
       "      <td>4</td>\n",
       "      <td>86.545532</td>\n",
       "      <td>0.0</td>\n",
       "      <td>0</td>\n",
       "      <td>0</td>\n",
       "      <td>2015</td>\n",
       "      <td>7</td>\n",
       "      <td>1</td>\n",
       "    </tr>\n",
       "    <tr>\n",
       "      <th>2</th>\n",
       "      <td>0.279828</td>\n",
       "      <td>0.375149</td>\n",
       "      <td>0.375296</td>\n",
       "      <td>0.154540</td>\n",
       "      <td>0.175917</td>\n",
       "      <td>0.392770</td>\n",
       "      <td>0.284846</td>\n",
       "      <td>0.409328</td>\n",
       "      <td>0</td>\n",
       "      <td>0</td>\n",
       "      <td>...</td>\n",
       "      <td>0</td>\n",
       "      <td>0</td>\n",
       "      <td>0</td>\n",
       "      <td>86.545532</td>\n",
       "      <td>75.0</td>\n",
       "      <td>0</td>\n",
       "      <td>0</td>\n",
       "      <td>2015</td>\n",
       "      <td>7</td>\n",
       "      <td>2</td>\n",
       "    </tr>\n",
       "    <tr>\n",
       "      <th>3</th>\n",
       "      <td>0.279828</td>\n",
       "      <td>0.375149</td>\n",
       "      <td>0.375296</td>\n",
       "      <td>0.191802</td>\n",
       "      <td>0.224660</td>\n",
       "      <td>0.392770</td>\n",
       "      <td>0.284846</td>\n",
       "      <td>0.409328</td>\n",
       "      <td>0</td>\n",
       "      <td>0</td>\n",
       "      <td>...</td>\n",
       "      <td>0</td>\n",
       "      <td>0</td>\n",
       "      <td>0</td>\n",
       "      <td>304.000000</td>\n",
       "      <td>75.0</td>\n",
       "      <td>0</td>\n",
       "      <td>0</td>\n",
       "      <td>2015</td>\n",
       "      <td>7</td>\n",
       "      <td>2</td>\n",
       "    </tr>\n",
       "    <tr>\n",
       "      <th>4</th>\n",
       "      <td>0.279828</td>\n",
       "      <td>0.375149</td>\n",
       "      <td>0.375296</td>\n",
       "      <td>0.368061</td>\n",
       "      <td>0.410861</td>\n",
       "      <td>0.392770</td>\n",
       "      <td>0.284846</td>\n",
       "      <td>0.409328</td>\n",
       "      <td>0</td>\n",
       "      <td>0</td>\n",
       "      <td>...</td>\n",
       "      <td>0</td>\n",
       "      <td>0</td>\n",
       "      <td>0</td>\n",
       "      <td>240.000000</td>\n",
       "      <td>98.0</td>\n",
       "      <td>0</td>\n",
       "      <td>1</td>\n",
       "      <td>2015</td>\n",
       "      <td>7</td>\n",
       "      <td>3</td>\n",
       "    </tr>\n",
       "  </tbody>\n",
       "</table>\n",
       "<p>5 rows × 29 columns</p>\n",
       "</div>"
      ],
      "text/plain": [
       "      hotel  arrival_date_month      meal  market_segment  \\\n",
       "0  0.279828            0.375149  0.375296        0.154540   \n",
       "1  0.279828            0.375149  0.375296        0.154540   \n",
       "2  0.279828            0.375149  0.375296        0.154540   \n",
       "3  0.279828            0.375149  0.375296        0.191802   \n",
       "4  0.279828            0.375149  0.375296        0.368061   \n",
       "\n",
       "   distribution_channel  reserved_room_type  deposit_type  customer_type  \\\n",
       "0              0.175917            0.331183      0.284846       0.409328   \n",
       "1              0.175917            0.331183      0.284846       0.409328   \n",
       "2              0.175917            0.392770      0.284846       0.409328   \n",
       "3              0.224660            0.392770      0.284846       0.409328   \n",
       "4              0.410861            0.392770      0.284846       0.409328   \n",
       "\n",
       "   classification  is_canceled  ...  previous_cancellations  \\\n",
       "0               0            0  ...                       0   \n",
       "1               0            0  ...                       0   \n",
       "2               0            0  ...                       0   \n",
       "3               0            0  ...                       0   \n",
       "4               0            0  ...                       0   \n",
       "\n",
       "   previous_bookings_not_canceled  booking_changes       agent   adr  \\\n",
       "0                               0                3   86.545532   0.0   \n",
       "1                               0                4   86.545532   0.0   \n",
       "2                               0                0   86.545532  75.0   \n",
       "3                               0                0  304.000000  75.0   \n",
       "4                               0                0  240.000000  98.0   \n",
       "\n",
       "   required_car_parking_spaces  total_of_special_requests  year  month  day  \n",
       "0                            0                          0  2015      7    1  \n",
       "1                            0                          0  2015      7    1  \n",
       "2                            0                          0  2015      7    2  \n",
       "3                            0                          0  2015      7    2  \n",
       "4                            0                          1  2015      7    3  \n",
       "\n",
       "[5 rows x 29 columns]"
      ]
     },
     "execution_count": 20,
     "metadata": {},
     "output_type": "execute_result"
    }
   ],
   "source": [
    "dataframe.head()"
   ]
  },
  {
   "cell_type": "markdown",
   "metadata": {},
   "source": [
    "**classification and is_canceled is same so we will drop one**"
   ]
  },
  {
   "cell_type": "code",
   "execution_count": 21,
   "metadata": {},
   "outputs": [],
   "source": [
    "dataframe.drop(\"classification\",axis = 1,inplace = True)"
   ]
  },
  {
   "cell_type": "code",
   "execution_count": 22,
   "metadata": {},
   "outputs": [
    {
     "data": {
      "text/plain": [
       "(118728, 28)"
      ]
     },
     "execution_count": 22,
     "metadata": {},
     "output_type": "execute_result"
    }
   ],
   "source": [
    "dataframe.shape"
   ]
  },
  {
   "cell_type": "markdown",
   "metadata": {},
   "source": [
    "## Handle Outliers"
   ]
  },
  {
   "cell_type": "code",
   "execution_count": 25,
   "metadata": {},
   "outputs": [
    {
     "data": {
      "text/plain": [
       "<AxesSubplot:ylabel='lead_time'>"
      ]
     },
     "execution_count": 25,
     "metadata": {},
     "output_type": "execute_result"
    },
    {
     "data": {
      "image/png": "[encoded data removed]",
      "text/plain": [
       "<Figure size 432x288 with 1 Axes>"
      ]
     },
     "metadata": {
      "needs_background": "light"
     },
     "output_type": "display_data"
    }
   ],
   "source": [
    "sns.boxplot(y = \"lead_time\" , data = dataframe)"
   ]
  },
  {
   "cell_type": "code",
   "execution_count": 28,
   "metadata": {},
   "outputs": [
    {
     "name": "stderr",
     "output_type": "stream",
     "text": [
      "C:\\Users\\hp\\anaconda3\\lib\\site-packages\\seaborn\\distributions.py:2551: FutureWarning: `distplot` is a deprecated function and will be removed in a future version. Please adapt your code to use either `displot` (a figure-level function with similar flexibility) or `histplot` (an axes-level function for histograms).\n",
      "  warnings.warn(msg, FutureWarning)\n"
     ]
    },
    {
     "data": {
      "image/png": "[encoded data removed]",
      "text/plain": [
       "<Figure size 432x288 with 1 Axes>"
      ]
     },
     "metadata": {
      "needs_background": "light"
     },
     "output_type": "display_data"
    }
   ],
   "source": [
    "sns.distplot(dataframe[\"lead_time\"])\n",
    "plt.show()"
   ]
  },
  {
   "cell_type": "code",
   "execution_count": 30,
   "metadata": {},
   "outputs": [],
   "source": [
    "q1 = dataframe[\"lead_time\"].quantile(0.25)\n",
    "q3 = dataframe[\"lead_time\"].quantile(0.75)\n",
    "iqr = q3 - q1"
   ]
  },
  {
   "cell_type": "code",
   "execution_count": 34,
   "metadata": {},
   "outputs": [],
   "source": [
    "lower_lim = q1 - 1.5*iqr \n",
    "upper_lim = q3 + 1.5*iqr"
   ]
  },
  {
   "cell_type": "code",
   "execution_count": 35,
   "metadata": {},
   "outputs": [
    {
     "data": {
      "text/plain": [
       "118728"
      ]
     },
     "execution_count": 35,
     "metadata": {},
     "output_type": "execute_result"
    }
   ],
   "source": [
    "len(dataframe)"
   ]
  },
  {
   "cell_type": "code",
   "execution_count": 37,
   "metadata": {},
   "outputs": [],
   "source": [
    "newdf = dataframe[(dataframe[\"lead_time\"] > lower_lim) & (dataframe[\"lead_time\"] < upper_lim) ]"
   ]
  },
  {
   "cell_type": "code",
   "execution_count": 38,
   "metadata": {},
   "outputs": [
    {
     "name": "stderr",
     "output_type": "stream",
     "text": [
      "C:\\Users\\hp\\anaconda3\\lib\\site-packages\\seaborn\\distributions.py:2551: FutureWarning: `distplot` is a deprecated function and will be removed in a future version. Please adapt your code to use either `displot` (a figure-level function with similar flexibility) or `histplot` (an axes-level function for histograms).\n",
      "  warnings.warn(msg, FutureWarning)\n"
     ]
    },
    {
     "data": {
      "image/png": "[encoded data removed]",
      "text/plain": [
       "<Figure size 432x288 with 1 Axes>"
      ]
     },
     "metadata": {
      "needs_background": "light"
     },
     "output_type": "display_data"
    }
   ],
   "source": [
    "sns.distplot(newdf[\"lead_time\"])\n",
    "plt.show()"
   ]
  },
  {
   "cell_type": "code",
   "execution_count": 40,
   "metadata": {},
   "outputs": [
    {
     "data": {
      "text/plain": [
       "115747"
      ]
     },
     "execution_count": 40,
     "metadata": {},
     "output_type": "execute_result"
    }
   ],
   "source": [
    "len(newdf)"
   ]
  },
  {
   "cell_type": "code",
   "execution_count": 44,
   "metadata": {},
   "outputs": [],
   "source": [
    "dataframe.to_csv(\"final_df.csv\")"
   ]
  },
  {
   "cell_type": "code",
   "execution_count": null,
   "metadata": {},
   "outputs": [],
   "source": []
  }
 ],
 "metadata": {
  "kernelspec": {
   "display_name": "Python 3",
   "language": "python",
   "name": "python3"
  },
  "language_info": {
   "codemirror_mode": {
    "name": "ipython",
    "version": 3
   },
   "file_extension": ".py",
   "mimetype": "text/x-python",
   "name": "python",
   "nbconvert_exporter": "python",
   "pygments_lexer": "ipython3",
   "version": "3.8.5"
  }
 },
 "nbformat": 4,
 "nbformat_minor": 4
}
